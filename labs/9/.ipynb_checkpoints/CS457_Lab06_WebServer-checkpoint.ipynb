{
 "cells": [
  {
   "cell_type": "markdown",
   "metadata": {},
   "source": [
    "<h1><center>CS457 Lab 6 <br />A Simple WEB SERVER</center></h1>\n",
    "\n",
    "### Overview\n",
    "\n",
    "In this lab, you will learn the basics of socket programming for sending and receiving HTTP packets. You will also learn some basics regarding the HTTP header format.\n",
    "\n",
    "You will develop a very simple web server that handles one HTTP GET request at a time. Your web server should accept and parse the HTTP request, get the requested file from the server’s file system, create an HTTP response message consisting of the requested file preceded by header lines, and then send the response directly to the client. If the requested file is not present in the server, the server should send an HTTP “404 Not Found” message back to the client.\n",
    "\n",
    "This lab requires you to compose new python code.  A skeleton framework is given, you will need to fill in the blanks. \n",
    "\n",
    "#### Acknowledgements and Citations\n",
    "\n",
    "This lab has original material as well as material sourced and modified from the Kurose and Ross Networking textbook's set of lab exercises."
   ]
  },
  {
   "cell_type": "markdown",
   "metadata": {},
   "source": [
    "----\n",
    "\n",
    "### The HTML file\n",
    "\n",
    "HTML is an acronym for Hyper Text Markup Language.  HTML is used to format the content of web pages.  More complicated web pages also use CSS (Cascading Style Sheets) to separate page content from page formatting and style.   \n",
    "\n",
    "Modify the HTML file below to include your name.  Execute the cell to write the HTML file into the same directory as this jupyter notebook file (the current working directory). "
   ]
  },
  {
   "cell_type": "code",
   "execution_count": 1,
   "metadata": {},
   "outputs": [
    {
     "name": "stdout",
     "output_type": "stream",
     "text": [
      "Writing HelloWorld.html\n"
     ]
    }
   ],
   "source": [
    "%%writefile HelloWorld.html\n",
    "\n",
    "<!DOCTYPE html>\n",
    "<html>\n",
    "<body style=\"background-color:powderblue;\">\n",
    "<h1>CS457 LAB 6</h1>\n",
    "<p>Oh Look!!!  In this lab I wrote a perfectly wonderful web server that works to any web browser.  \n",
    "<br /> I am learning so much in this class!  </p>\n",
    "\n",
    "<p style=\"color:red;\">\n",
    "By the way, my name is <b><em> Casey Key </em></b>. </p>\n",
    "\n",
    "<p>Here is a link to another file to be served up by my webserver.  I hope it works!!\n",
    "<br \\>\n",
    "<a href=\"http://localhost:6789/HelloWorldLink.html\">This is the link</a></p>\n",
    "\n",
    "<p>Here is a link to another web site.  My web server does not serve up this page.  The remote site serves it.!!\n",
    "<br \\>\n",
    "<a href=\"https://www.w3schools.com/html/\">Visit the W3 schools HTML tutorial</a></p>\n",
    "\n",
    "</body>\n",
    "</html>"
   ]
  },
  {
   "cell_type": "markdown",
   "metadata": {},
   "source": [
    "----\n",
    "\n",
    "### The Linked HTML file\n",
    "\n",
    "This next HTML file will be linked by the first HTML file.\n",
    "\n",
    "Once again, modify the HTML file below to include your name.  Execute the cell to write the HTML file into the same directory as your code file. "
   ]
  },
  {
   "cell_type": "code",
   "execution_count": 2,
   "metadata": {},
   "outputs": [
    {
     "name": "stdout",
     "output_type": "stream",
     "text": [
      "Writing HelloWorldLink.html\n"
     ]
    }
   ],
   "source": [
    "%%writefile HelloWorldLink.html\n",
    "\n",
    "<!DOCTYPE html>\n",
    "<html>\n",
    "<body style=\"background-color:PaleGoldenrod;\">\n",
    "<h1>CS457 LAB 6 LINK FILE</h1>\n",
    "<p> If I got here, the link actually worked!  </p>\n",
    "\n",
    "<p style=\"color:red;\">\n",
    "By the way, my name is <b><em> Casey Key </em></b>. </p>\n",
    "\n",
    "<p> Here is a picture from the course web page. It is NOT served up by my web server.\n",
    "Where does it get served from?</p>\n",
    "<br \\>\n",
    "<img src=\"http://www.cs.colostate.edu/~cs457/images/NetworkImage_500x500.jpg\">\n",
    "\n",
    "<p> <b> Use the back key to get to the original web page. </b> </p>\n",
    "</body>\n",
    "</html>"
   ]
  },
  {
   "cell_type": "markdown",
   "metadata": {},
   "source": [
    "----\n",
    "\n",
    "### Python Code Skeleton for Simple Web Server\n",
    "\n",
    "Below you will find the skeleton code for the Web server. \n",
    "You are to complete the skeleton code. The places where you need to fill in code are marked with ```#### Fill in start``` and ```#### Fill in end```. Regular comments just have a single \"#\" symbol.  \n",
    "\n",
    "Each insertion point may require one or more lines of code.\n",
    "\n"
   ]
  },
  {
   "cell_type": "code",
   "execution_count": 3,
   "metadata": {},
   "outputs": [
    {
     "ename": "SyntaxError",
     "evalue": "invalid syntax (<ipython-input-3-9cd701d8b7db>, line 15)",
     "output_type": "error",
     "traceback": [
      "\u001b[0;36m  File \u001b[0;32m\"<ipython-input-3-9cd701d8b7db>\"\u001b[0;36m, line \u001b[0;32m15\u001b[0m\n\u001b[0;31m    connectionSocket, addr = #### fill in start (do an ACCEPT from server socket)  #### fill in end\u001b[0m\n\u001b[0m                             ^\u001b[0m\n\u001b[0;31mSyntaxError\u001b[0m\u001b[0;31m:\u001b[0m invalid syntax\n"
     ]
    }
   ],
   "source": [
    "#import socket module\n",
    "from socket import *\n",
    "import sys # In order to terminate the program\n",
    "\n",
    "serverSocket = socket(AF_INET, SOCK_STREAM) #Prepare a sever socket\n",
    "\n",
    "#####Fill in start\n",
    "### assign a port number (e.g. 6789)\n",
    "### bind the socket to an IP address and port\n",
    "###  do a LISTEN on the socket (to 1 connection at most)\n",
    "#####Fill in end\n",
    "\n",
    "while True:\n",
    "    print('Ready to serve...')\n",
    "    connectionSocket, addr = #### fill in start (do an ACCEPT from server socket)  #### fill in end\n",
    "    try:\n",
    "        message = ####Fill in start # do a recv on connection socket, don't forget to append \".decode()\" #####Fill in end \n",
    "        \n",
    "        # Extract the path of the requested object from the message\n",
    "        # The path is the second part of HTTP header, identified by [1]\n",
    "        filename = message.split()[1]\n",
    "        \n",
    "        # Because the extracted path of the HTTP request includes \n",
    "        # a character '\\', we read the path starting from the second character\n",
    "        f = open(filename[1:])\n",
    "        \n",
    "        # Store the entire content of the requested file in a temporary buffer variable\n",
    "        outputdata = #### Fill in start  (read the file.  See python file i/o if you need guidance) #### Fill in end \n",
    "        \n",
    "        #Send one HTTP header line into socket to indicate all is ok\n",
    "        connectionSocket.send(\"HTTP/1.1 200 OK\\r\\n\\r\\n\".encode())\n",
    "        \n",
    "        #Send the content of the requested file to the client \n",
    "        \n",
    "        for i in range(0, len(outputdata)):\n",
    "            connectionSocket.send(outputdata[i].encode()) \n",
    "        connectionSocket.send(\"\\r\\n\".encode())\n",
    "        connectionSocket.close() \n",
    "    \n",
    "    except IOError:\n",
    "        #Send response message for file not found\n",
    "        ##### Fill in start\n",
    "        ### you should send a header similar to the ok message above, but with error code 404 NOT FOUND.\n",
    "        ### then send some content: \n",
    "        connectionSocket.send(\"<html><head></head><body><h1>404 Not Found</h1></body></html>\\r\\n\".encode())\n",
    "        ##### Fill in end\n",
    "        \n",
    "        #Close client socket\n",
    "        ##### Fill in start\n",
    "        ##### Fill in end\n",
    "    \n",
    "serverSocket.close()\n",
    "sys.exit()  #Terminate the program after sending the corresponding data"
   ]
  },
  {
   "cell_type": "markdown",
   "metadata": {},
   "source": [
    "### Running the Server\n",
    "\n",
    "After editing the code cell above, execute your server program by executing the cell.  Don't forget to restart the kernel whenever you want to do anything else with this jupyter notebook because the server is an infinite loop.   If you prefer, you can save the code to a separate file and run it from a command line.   \n",
    "\n",
    "Once the server is running, you should use your favorite web browser (firefox, chrome, windows explorer, etc.) and navigate to the page http://localhost:6789/HelloWorld.html  \n",
    "\n",
    "‘HelloWorld.html’ is the name of the file you placed in the server directory. Note also the use of the port number after the colon. You need to replace this port number with whatever port you have used in the server code. In the above example, we have used the port number 6789. The browser should then display the contents of HelloWorld.html. If you omit \":6789\", the browser will assume port 80 and you will get the web page from the server only if your server is listening at port 80.\n",
    "\n",
    "Try the links.  They should work just fine.\n",
    "\n",
    "Then try to get a file that is not present at the server. You should get a “404 Not Found” message."
   ]
  },
  {
   "cell_type": "markdown",
   "metadata": {},
   "source": [
    "----\n",
    "\n",
    "### What to turn in\n",
    "\n",
    "You will hand in the complete web server code and screenshots of the main web page and the linked web page. \n",
    "\n",
    "### Extra Credit (50 points)\n",
    "\n",
    "As usual, this lab is worth 100 points.  If you decide to successfully complete the following optional exercise, you will receive an additional 50 points.\n",
    "\n",
    "Currently, the web server handles only one HTTP request at a time. Implement a multithreaded server that is capable of serving multiple requests simultaneously. Using threading, first create a main thread in which your modified server listens for clients at a fixed port. When it receives a TCP connection request from a client, it will set up the TCP connection through another port and services the client request in a separate thread. There will be a separate TCP connection in a separate thread for each request/response pair.\n",
    "\n",
    "This exercise will require you to read and learn the python thread library.  "
   ]
  }
 ],
 "metadata": {
  "kernelspec": {
   "display_name": "Python 3",
   "language": "python",
   "name": "python3"
  },
  "language_info": {
   "codemirror_mode": {
    "name": "ipython",
    "version": 3
   },
   "file_extension": ".py",
   "mimetype": "text/x-python",
   "name": "python",
   "nbconvert_exporter": "python",
   "pygments_lexer": "ipython3",
   "version": "3.8.2"
  }
 },
 "nbformat": 4,
 "nbformat_minor": 2
}
